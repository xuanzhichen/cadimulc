{
 "cells": [
  {
   "cell_type": "markdown",
   "id": "638901e7815a0b56",
   "metadata": {},
   "source": [
    "# Demonstration on Simulated fMRI Data   "
   ]
  },
  {
   "cell_type": "markdown",
   "id": "cffee415c3c322f8",
   "metadata": {},
   "source": [
    "## Experimental Setup"
   ]
  },
  {
   "cell_type": "markdown",
   "id": "3d1a99121a170129",
   "metadata": {},
   "source": [
    "### Basic Setup"
   ]
  },
  {
   "cell_type": "code",
   "execution_count": 1,
   "id": "8f10ecd74d82463",
   "metadata": {
    "ExecuteTime": {
     "end_time": "2023-11-22T08:08:58.535035500Z",
     "start_time": "2023-11-22T08:08:55.849154900Z"
    }
   },
   "outputs": [],
   "source": [
    "import numpy as np\n",
    "import pandas as pd\n",
    "import matplotlib.pyplot as plt\n",
    "import random\n",
    "import time\n",
    "import warnings\n",
    "\n",
    "from experiment_helper import ExperimentHelper\n",
    "\n",
    "plt.style.use(\"seaborn-whitegrid\")\n",
    "warnings.filterwarnings(\"ignore\")"
   ]
  },
  {
   "cell_type": "markdown",
   "id": "791567c8f754970d",
   "metadata": {},
   "source": [
    "### Parameters"
   ]
  },
  {
   "cell_type": "markdown",
   "id": "b5e0ac00c7a88cbf",
   "metadata": {},
   "source": [
    "| Parameters       | Values                     | Meanings     |\n",
    "|:-----------------|:---------------------------|:-------------|\n",
    "| scenarios_index  | dataset_sim2, dataset_sim3 | testing text |\n",
    "| num_repetitions  | num                        | testing text |"
   ]
  },
  {
   "cell_type": "code",
   "execution_count": null,
   "id": "2b574d87ed529e69",
   "metadata": {},
   "outputs": [],
   "source": [
    "scenarios_index = 'dataset_sim2'\n",
    "num_repetitions = 100\n",
    "\n",
    "saving_data = False\n",
    "saving_data_path = 'record_data/date_folder_name/group1'\n",
    "saving_fig = False\n",
    "saving_fig_path = 'record_figures/date_folder_name/group1'\n"
   ]
  },
  {
   "cell_type": "markdown",
   "id": "3ae7542644d8957d",
   "metadata": {},
   "source": [
    "### Convenience Functions"
   ]
  },
  {
   "cell_type": "code",
   "execution_count": null,
   "id": "1f09044bd638d072",
   "metadata": {},
   "outputs": [],
   "source": [
    "# Store result for preview.\n",
    "presicion_y = {}\n",
    "recall_y = {}\n",
    "f1_score_y = {}\n",
    "computational_time_y = {}\n",
    "dict_list = [presicion_y, recall_y, f1_score_y, computational_time_y]\n",
    "\n",
    "for dict_item in dict_list:\n",
    "    for model in models:\n",
    "        dict_item[model] = []\n",
    "\n",
    "def initialize_exp_helper():\n",
    "    exp_helper = {}\n",
    "    for model in models:\n",
    "        exp_helper[model] = None\n",
    "\n",
    "    return exp_helper\n",
    "\n",
    "def characterized(setting_value):\n",
    "    \"\"\" Transform the setting value to string if it is about \"ratio\" type.\n",
    "    \"\"\"\n",
    "    if type(setting_value) is float:\n",
    "        temp = str(setting_value).split(\".\")\n",
    "        setting_value = \"\"\n",
    "        for char in temp:\n",
    "            setting_value += char\n",
    "    else:\n",
    "        setting_value = str(setting_value)\n",
    "\n",
    "    return setting_value\n",
    "\n",
    "exp_helper = initialize_exp_helper()"
   ]
  },
  {
   "cell_type": "code",
   "execution_count": 1,
   "id": "ee34dc03d15e68f0",
   "metadata": {},
   "outputs": [],
   "source": [
    "def print_exp_para(scenarios_index):\n",
    "    range_latent_var = {\n",
    "        'dataset_sim2' : [0, 1, 2],\n",
    "        'dataset_sim3' : [0, 1, 2, 3]\n",
    "    }\n",
    "    \n",
    "    plot_title = {\n",
    "        'dataset_sim2' : \"Performance on \",\n",
    "        'dataset_sim3' : \"Performance on \"\n",
    "    }\n",
    "    \n",
    "    range_latent_var = range_latent_var[scenarios_index]\n",
    "    plot_title = plot_title[scenarios_index]\n",
    "    \n",
    "    models = [\"nonlinear_mlc\", \"cam_uv\", \"resit\", \"fci\", \"pc\"]\n",
    "    \n",
    "    print(\"################# Check Experiment Setting ##################\")\n",
    "    print(\"models:              \")\n",
    "    print(models)\n",
    "    print()\n",
    "    print(\"Setting Key:         \", scenarios_index)\n",
    "    print(\"Experiment time:     \", num_repetitions)"
   ]
  },
  {
   "cell_type": "markdown",
   "id": "50c08cf26d16ce76",
   "metadata": {},
   "source": [
    "## Conduct Experiments"
   ]
  },
  {
   "cell_type": "markdown",
   "id": "a6c2c247a2c75d7a",
   "metadata": {},
   "source": [
    "### Display Experimental Setup"
   ]
  },
  {
   "cell_type": "code",
   "execution_count": 3,
   "id": "7ea9a00f3b4ee644",
   "metadata": {
    "ExecuteTime": {
     "end_time": "2023-11-19T06:49:39.762868400Z",
     "start_time": "2023-11-19T06:49:39.753860900Z"
    }
   },
   "outputs": [
    {
     "name": "stdout",
     "output_type": "stream",
     "text": [
      "################# Check Experiment Setting ##################\n",
      "models:              \n",
      "['nonlinear_mlc', 'cam_uv', 'resit', 'fci', 'pc']\n",
      "\n",
      "Setting Key:          dataset_sim2\n",
      "Experiment time:      100\n"
     ]
    }
   ],
   "source": [
    "print_exp_para(scenarios_index)"
   ]
  },
  {
   "cell_type": "markdown",
   "id": "20f515264fee4fab",
   "metadata": {},
   "source": [
    "### Running Process"
   ]
  },
  {
   "cell_type": "markdown",
   "id": "2976e296612f4185",
   "metadata": {},
   "source": [
    "### Computational Time"
   ]
  },
  {
   "cell_type": "markdown",
   "id": "edd0f98fab81928e",
   "metadata": {},
   "source": [
    "## Data Processing and Result Plotting"
   ]
  },
  {
   "cell_type": "code",
   "execution_count": null,
   "id": "455103f825e13942",
   "metadata": {},
   "outputs": [],
   "source": []
  }
 ],
 "metadata": {
  "kernelspec": {
   "display_name": "Python 3 (ipykernel)",
   "language": "python",
   "name": "python3"
  },
  "language_info": {
   "codemirror_mode": {
    "name": "ipython",
    "version": 3
   },
   "file_extension": ".py",
   "mimetype": "text/x-python",
   "name": "python",
   "nbconvert_exporter": "python",
   "pygments_lexer": "ipython3",
   "version": "3.9.7"
  },
  "toc": {
   "base_numbering": 1,
   "nav_menu": {},
   "number_sections": true,
   "sideBar": true,
   "skip_h1_title": false,
   "title_cell": "Table of Contents",
   "title_sidebar": "Contents",
   "toc_cell": false,
   "toc_position": {},
   "toc_section_display": true,
   "toc_window_display": false
  },
  "varInspector": {
   "cols": {
    "lenName": 16,
    "lenType": 16,
    "lenVar": 40
   },
   "kernels_config": {
    "python": {
     "delete_cmd_postfix": "",
     "delete_cmd_prefix": "del ",
     "library": "var_list.py",
     "varRefreshCmd": "print(var_dic_list())"
    },
    "r": {
     "delete_cmd_postfix": ") ",
     "delete_cmd_prefix": "rm(",
     "library": "var_list.r",
     "varRefreshCmd": "cat(var_dic_list()) "
    }
   },
   "types_to_exclude": [
    "module",
    "function",
    "builtin_function_or_method",
    "instance",
    "_Feature"
   ],
   "window_display": false
  }
 },
 "nbformat": 4,
 "nbformat_minor": 5
}
