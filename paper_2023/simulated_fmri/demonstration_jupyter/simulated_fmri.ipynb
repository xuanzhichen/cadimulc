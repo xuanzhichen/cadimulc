{
 "cells": [
  {
   "cell_type": "markdown",
   "id": "638901e7815a0b56",
   "metadata": {},
   "source": [
    "# Demonstration on Simulated fMRI Data   \n",
    "\n",
    "Author: Xuanzhi CHEN <xuanzhichen.42@gmail.com>\n",
    "\n",
    "License: MIT License"
   ]
  },
  {
   "cell_type": "markdown",
   "source": [
    "<!--\n",
    "# ### DEVELOPMENT NOTES ####################################################\n",
    "# *\n",
    "\n",
    "\n",
    "# ### DEVELOPMENT PROGRESS (LEAST) #########################################\n",
    "# * Doing on getting seeds. First, go to the experiment helper to write fun-\n",
    "    ction run_generation_procedure(). Then, get_skeleton_score() and get_sk-\n",
    "    eleton_from_pc() can be the standard module from utils.   08th.Dec, 2023\n",
    "   \n",
    "\n",
    "# ### TO-DO LIST (LEAST) ###################################################\n",
    "# Required (Optional):\n",
    "# TODO: experiment_helper.run_generation_procedure(), get_skeleton_score() \n",
    "        and get_skeleton_from_pc()\n",
    "# Done:\n",
    "# None\n",
    "-->"
   ],
   "metadata": {
    "collapsed": false
   },
   "id": "62d3aad83bd1c05"
  },
  {
   "cell_type": "markdown",
   "source": [
    "To illustrate our experiments, we simply set repetitions equal to 10. \n",
    "\n",
    "Computational cost required to reproduce the corresponding experiment need to be approximately four to five day full-time computation by our roughly estimation.  \n",
    "\n",
    "Machine: "
   ],
   "metadata": {
    "collapsed": false
   },
   "id": "e22bab15aa1b1210"
  },
  {
   "cell_type": "code",
   "execution_count": 1,
   "outputs": [],
   "source": [
    "import numpy as np\n",
    "import pandas as pd\n",
    "import matplotlib.pyplot as plt\n",
    "import random\n",
    "import time\n",
    "import warnings\n",
    "\n",
    "from experiment_helper import ExperimentHelper\n",
    "from cadimulc.utils.extensive_modules import copy_and_rename\n",
    "\n",
    "plt.style.use(\"seaborn-whitegrid\")\n",
    "warnings.filterwarnings(\"ignore\")"
   ],
   "metadata": {
    "collapsed": false,
    "ExecuteTime": {
     "end_time": "2023-11-30T07:39:08.648890800Z",
     "start_time": "2023-11-30T07:39:02.719863900Z"
    }
   },
   "id": "f4e9a6ed3fa3fa17"
  },
  {
   "cell_type": "markdown",
   "id": "cffee415c3c322f8",
   "metadata": {},
   "source": [
    "## Experimental Setup"
   ]
  },
  {
   "cell_type": "markdown",
   "id": "791567c8f754970d",
   "metadata": {},
   "source": [
    "### Main Parameters"
   ]
  },
  {
   "cell_type": "markdown",
   "id": "b5e0ac00c7a88cbf",
   "metadata": {},
   "source": [
    "| Parameters       | Descriptions                                                                                                                                                                                     | \n",
    "|:-----------------|:-------------------------------------------------------------------------------------------------------------------------------------------------------------------------------------------------|\n",
    "| models           | The causal discovery algorithms selected as baseline approaches include: CAM-UV[cite], RESIT[cite], FCI[cite], PC[cite], compared with the novel method **Nonlinear-MLC** proposed in our paper. | \n",
    "| scenarios_index  | testing text                                                                                                                                                                                     |\n",
    "| exp_repetitions  | testing text                                                                                                                                                                                        | \n",
    "| saving_data      | testing text                                                                                                                                                                              | \n",
    "| saving_data_path | testing text                                                                                                                                                                                          |\n",
    "| saving_fig       | testing text                                                                                                                                                                                |\n",
    "| saving_fig_path  | testing text                                                                                                                                                                                          |"
   ]
  },
  {
   "cell_type": "code",
   "execution_count": 7,
   "id": "2b574d87ed529e69",
   "metadata": {
    "ExecuteTime": {
     "end_time": "2023-11-30T07:46:43.248232200Z",
     "start_time": "2023-11-30T07:46:43.215794200Z"
    }
   },
   "outputs": [],
   "source": [
    "models = [\"Nonlinear-MLC\", \"CAM-UV\", \"RESIT\", \"FCI\", \"PC\"]\n",
    "\n",
    "fmri_dataset_id = 'sim2_dataset'\n",
    "fmri_dataset_path = '../dataset_netsim/sim2.mat'\n",
    "\n",
    "latent_var_dic = {\n",
    "    'sim2_dataset' : ('X0', 'X5'),\n",
    "    'sim3_dataset' : ('X0', 'X5', 'X10')\n",
    "}\n",
    "latent_var_set = latent_var_dic[fmri_dataset_id]\n",
    "\n",
    "sample = 1000\n",
    "\n",
    "# exp_repetitions = 100\n",
    "exp_repetitions = 10\n",
    "\n",
    "plot = True\n",
    "plotting_title = \"Performance on fMRI data of sim2\"\n",
    "\n",
    "saving_data = True\n",
    "data_save_path = 'record_data/date_folder_name/group1'\n",
    "saving_img = True\n",
    "img_save_path = 'record_img/date_folder_name/group1'"
   ]
  },
  {
   "cell_type": "markdown",
   "id": "3ae7542644d8957d",
   "metadata": {},
   "source": [
    "### Convenience Functions"
   ]
  },
  {
   "cell_type": "markdown",
   "source": [
    "| Functions        | Descriptions                                                                                                                                                                                     | \n",
    "|:-----------------|:-------------------------------------------------------------------------------------------------------------------------------------------------------------------------------------------------|\n",
    "| display_exp_para           | testing text | \n",
    "| init_exp_helper  | testing text                                                                                                                                                                                     |\n",
    "| get_seed_list  | testing text                                                                                                                                                                                        | "
   ],
   "metadata": {
    "collapsed": false
   },
   "id": "f319f76f3a42f104"
  },
  {
   "cell_type": "code",
   "execution_count": 8,
   "id": "4d1ef408db02cb73",
   "metadata": {
    "ExecuteTime": {
     "end_time": "2023-11-30T07:46:53.769267600Z",
     "start_time": "2023-11-30T07:46:53.747219300Z"
    }
   },
   "outputs": [],
   "source": [
    "def display_exp_para():\n",
    "    print(\"######################### REVIEW EXPERIMENTAL SETUP #########################\")\n",
    "    print(\"------------------------- OPERATING PARAMETERS -------------------------\")\n",
    "    print(\"* fMRI-Dataset:              \", fmri_dataset_id)\n",
    "    print(\"* Latent Variables Set:      \", latent_var_set)\n",
    "    print(\"* Models:                    \", models)\n",
    "    print(\"* Number of Repetitions:     \", exp_repetitions)\n",
    "    \n",
    "    identifier_end = '-------------------------'\n",
    "    \n",
    "    if plot:\n",
    "        identifier_center = ' PLOTTING PARAMETERS '\n",
    "        print(identifier_end + identifier_center + identifier_end)\n",
    "        print(\"* Plotting Title:            \", plotting_title)\n",
    "    \n",
    "    if saving_data or saving_img:\n",
    "        identifier_center = ' SAVE PARAMETERS '\n",
    "        print(identifier_end + identifier_center + identifier_end)\n",
    "        if saving_data:\n",
    "            print(\"* Data Save Path:            \", data_save_path)\n",
    "        if saving_img:\n",
    "            print(\"* Image Save Path:           \", img_save_path)"
   ]
  },
  {
   "cell_type": "code",
   "execution_count": null,
   "outputs": [],
   "source": [
    "def init_exp_helper():\n",
    "    \"\"\".\n",
    "    Return a 'exp_helper' dictionary that ...\n",
    "    \"\"\"\n",
    "    exp_helper = {}\n",
    "    \n",
    "    for model in models:\n",
    "        exp_helper[model] = None\n",
    "        \n",
    "    return exp_helper"
   ],
   "metadata": {
    "collapsed": false
   },
   "id": "bdb5141619f58d3a"
  },
  {
   "cell_type": "code",
   "execution_count": null,
   "outputs": [],
   "source": [
    "def get_seed_list():\n",
    "    \"\"\"\n",
    "    Write down some descriptions here.\n",
    "    \"\"\"\n",
    "    pass"
   ],
   "metadata": {
    "collapsed": false
   },
   "id": "a03fa9c413e960c3"
  },
  {
   "cell_type": "code",
   "execution_count": 84,
   "outputs": [],
   "source": [
    "            \n",
    "# Store result for preview.\n",
    "presicion_y = {}\n",
    "recall_y = {}\n",
    "f1_score_y = {}\n",
    "computational_time_y = {}\n",
    "dict_list = [presicion_y, recall_y, f1_score_y, computational_time_y]\n",
    "\n",
    "for dict_item in dict_list:\n",
    "    for model in models:\n",
    "        dict_item[model] = []\n",
    "\n",
    "def initialize_exp_helper():\n",
    "    exp_helper = {}\n",
    "    for model in models:\n",
    "        exp_helper[model] = None\n",
    "\n",
    "    return exp_helper\n",
    "\n",
    "def characterized(setting_value):\n",
    "    \"\"\" Transform the setting value to string if it is about \"ratio\" type.\n",
    "    \"\"\"\n",
    "    if type(setting_value) is float:\n",
    "        temp = str(setting_value).split(\".\")\n",
    "        setting_value = \"\"\n",
    "        for char in temp:\n",
    "            setting_value += char\n",
    "    else:\n",
    "        setting_value = str(setting_value)\n",
    "\n",
    "    return setting_value"
   ],
   "metadata": {
    "collapsed": false,
    "ExecuteTime": {
     "start_time": "2023-11-22T10:27:35.524433200Z"
    }
   },
   "id": "ee34dc03d15e68f0"
  },
  {
   "cell_type": "markdown",
   "source": [
    "#### *temp init_random_seed_dict( )"
   ],
   "metadata": {
    "collapsed": false
   },
   "id": "72e73f7e5b1ff357"
  },
  {
   "cell_type": "code",
   "execution_count": 1,
   "outputs": [],
   "source": [
    "def init_random_seed_dict():\n",
    "    random_seed_dict = {\n",
    "    0 : [],\n",
    "    1 : [],\n",
    "}"
   ],
   "metadata": {
    "collapsed": false,
    "ExecuteTime": {
     "end_time": "2023-12-02T13:46:38.985015400Z",
     "start_time": "2023-12-02T13:46:38.953762400Z"
    }
   },
   "id": "a4e8727a9eef3d20"
  },
  {
   "cell_type": "markdown",
   "source": [
    "### Display Experimental Setup"
   ],
   "metadata": {
    "collapsed": false
   },
   "id": "492b925b5c6d4a0"
  },
  {
   "cell_type": "code",
   "execution_count": 6,
   "outputs": [
    {
     "name": "stdout",
     "output_type": "stream",
     "text": [
      "######################### REVIEW EXPERIMENTAL SETUP #########################\n",
      "------------------------- OPERATING PARAMETERS -------------------------\n",
      "* fMRI-Dataset:               sim2_dataset\n",
      "* Latent Variables Set:       ('X0', 'X5')\n",
      "* Models:                     ['Nonlinear-MLC', 'CAM-UV', 'RESIT', 'FCI', 'PC']\n",
      "* Number of Repetitions:      100\n",
      "------------------------- PLOTTING PARAMETERS -------------------------\n",
      "* Plotting Title:             Performance on fMRI data of sim2\n",
      "------------------------- SAVE PARAMETERS -------------------------\n",
      "* Data Save Path:             record_data/date_folder_name/group1\n",
      "* Image Save Path:            record_img/date_folder_name/group1\n"
     ]
    }
   ],
   "source": [
    "display_exp_para()"
   ],
   "metadata": {
    "collapsed": false,
    "ExecuteTime": {
     "end_time": "2023-11-30T07:39:43.025515500Z",
     "start_time": "2023-11-30T07:39:43.005441800Z"
    }
   },
   "id": "14cf9e354052b03a"
  },
  {
   "cell_type": "markdown",
   "source": [
    "## Markov and Faithfulness Assumptions"
   ],
   "metadata": {
    "collapsed": false
   },
   "id": "ee359fcf10188074"
  },
  {
   "cell_type": "markdown",
   "source": [
    "### Definition"
   ],
   "metadata": {
    "collapsed": false
   },
   "id": "a7e97288aa9c2829"
  },
  {
   "cell_type": "markdown",
   "source": [
    "Write down some descriptions here."
   ],
   "metadata": {
    "collapsed": false
   },
   "id": "265ff4f23a10656a"
  },
  {
   "cell_type": "markdown",
   "source": [
    "### Support of Hypothesis"
   ],
   "metadata": {
    "collapsed": false
   },
   "id": "5c545cb37584a16b"
  },
  {
   "cell_type": "markdown",
   "source": [
    "We employ a heuristic approach to support our hypotheis."
   ],
   "metadata": {
    "collapsed": false
   },
   "id": "ec9ea361064d5b54"
  },
  {
   "cell_type": "markdown",
   "source": [
    "The function is commonly used in the preprocessing stage to select datasets\n",
    "    from which reasonable skeletons can be recovered. The higher the score\n",
    "    an estimated skeleton achieves, the stronger the Markov and faithfulness\n",
    "    assumptions approximately hold."
   ],
   "metadata": {
    "collapsed": false
   },
   "id": "fff8d29f894e507b"
  },
  {
   "cell_type": "markdown",
   "source": [
    "#### *temp: get_skeleton_score( )"
   ],
   "metadata": {
    "collapsed": false
   },
   "id": "46694f5e56ea4f14"
  },
  {
   "cell_type": "code",
   "execution_count": null,
   "outputs": [],
   "source": [
    "def get_skeleton_score(est_skeleton, true_skeleton, score_metric):\n",
    "    \"\"\"\n",
    "    The function is commonly used in the preprocessing stage to select datasets\n",
    "    from which reasonable skeletons can be recovered. The higher the score\n",
    "    an estimated skeleton achieves, the stronger the Markov and faithfulness\n",
    "    assumptions approximately hold.\n",
    "\n",
    "    Parameters\n",
    "    ----------\n",
    "    est_skeleton : ndarray\n",
    "    true_skeleton : ndarray\n",
    "    score_metric : string\n",
    "\n",
    "    Return\n",
    "    ------\n",
    "    score : float\n",
    "        Precision, Recall, and F1-score\n",
    "    \"\"\"\n",
    "\n",
    "    est_skeleton = convert_graph_type(origin=est_skeleton, target=nx.Graph)\n",
    "    true_skeleton = convert_graph_type(origin=true_skeleton, target=nx.Graph)\n",
    "\n",
    "    est_edges = list(est_skeleton.edges())\n",
    "    true_edges = list(true_skeleton.edges())\n",
    "    true_est_num = 0\n",
    "\n",
    "    for est_edge in est_edges:\n",
    "        if est_edge in true_edges:\n",
    "            true_est_num += 1\n",
    "\n",
    "    precision = 0\n",
    "    recall = 0\n",
    "    f1_score = 0\n",
    "\n",
    "    if score_metric == 'Precision':\n",
    "        score = precision\n",
    "    elif score_metric == 'Recall':\n",
    "        score = recall\n",
    "    elif score_metric == 'F1-score':\n",
    "        score = f1_score\n",
    "    else:\n",
    "        raise ValueError(\"test\")\n",
    "\n",
    "    return score"
   ],
   "metadata": {
    "collapsed": false
   },
   "id": "1039df331e73c3ad"
  },
  {
   "cell_type": "markdown",
   "source": [
    "#### *temp get_skeleton_from_pc( )"
   ],
   "metadata": {
    "collapsed": false
   },
   "id": "757ec7ca67766ddf"
  },
  {
   "cell_type": "code",
   "execution_count": null,
   "outputs": [],
   "source": [
    "def get_skeleton_from_pc():\n",
    "    pass"
   ],
   "metadata": {
    "collapsed": false
   },
   "id": "a08919f829bcb5ab"
  },
  {
   "cell_type": "markdown",
   "source": [
    "#### *temp get seed"
   ],
   "metadata": {
    "collapsed": false
   },
   "id": "6f962c954e354cae"
  },
  {
   "cell_type": "code",
   "execution_count": null,
   "outputs": [],
   "source": [
    "random_seed_dict = init_random_seed_dict()\n",
    "experiment_helper = ExperimentHelper(\n",
    "    fmri_dataset_id=fmri_dataset_id, \n",
    "    latent_var_set=latent_var_set,\n",
    ")\n",
    "\n",
    "for hidden_num in range(len(latent_var_set)):\n",
    "    num_random_seeds = 0\n",
    "    seed_candidate = 0\n",
    "    while num_random_seeds < exp_repetitions:\n",
    "        np.random.seed(seed_candidate)\n",
    "        \n",
    "        data, true_skeleton = experiment_helper.run_generation_procedure(\n",
    "            hidden_num = hidden_num\n",
    "        ).unpack()\n",
    "        \n",
    "        est_skeleton = get_skeleton_from_pc(data)\n",
    "        score = get_skeleton_score(true_skeleton, est_skeleton)\n",
    "        \n",
    "        if score > 0.9:\n",
    "            random_seed_dict[hidden_num].append(seed_candidate)\n",
    "            \n",
    "            num_random_seeds += 1\n",
    "            \n",
    "print(random_seed_dict)"
   ],
   "metadata": {
    "collapsed": false
   },
   "id": "ab16c622744ba570"
  },
  {
   "cell_type": "markdown",
   "id": "50c08cf26d16ce76",
   "metadata": {},
   "source": [
    "## Conduct Experiments"
   ]
  },
  {
   "cell_type": "markdown",
   "id": "20f515264fee4fab",
   "metadata": {},
   "source": [
    "### Running Process"
   ]
  },
  {
   "cell_type": "code",
   "execution_count": null,
   "outputs": [],
   "source": [
    "exp_helper = init_exp_helper() \n",
    "seed_list = get_seed_list()"
   ],
   "metadata": {
    "collapsed": false
   },
   "id": "96b75eeeec8ecf53"
  },
  {
   "cell_type": "code",
   "execution_count": null,
   "outputs": [],
   "source": [
    "begin = time.perf_counter()\n",
    "\n",
    "for model in models:\n",
    "    \n",
    "    exp_helper[model] = ExperimentHelper()\n",
    "    \n",
    "    for hidden_num in range(len(latent_var_set)):\n",
    "        for seed in random_seed_dict[hidden_num]:\n",
    "            \n",
    "            exp_helper[model].run_generation_procedure()\n",
    "            \n",
    "            exp_helper[model].run_algorithm(model=model)\n",
    "            \n",
    "            exp_helper[model].run_evaluation_procedure()\n",
    "        \n",
    "        exp_helper[model].save_result()\n",
    "            \n",
    "begin = time.perf_counter()"
   ],
   "metadata": {
    "collapsed": false
   },
   "id": "8c5e31cca13ff16"
  },
  {
   "cell_type": "code",
   "execution_count": null,
   "outputs": [],
   "source": [
    "# time\n",
    "show_exp_time()"
   ],
   "metadata": {
    "collapsed": false
   },
   "id": "c748eda62b15c524"
  },
  {
   "cell_type": "code",
   "execution_count": null,
   "outputs": [],
   "source": [
    "# preview\n",
    "preview_exp_results()"
   ],
   "metadata": {
    "collapsed": false
   },
   "id": "c7c6eefbd4bab268"
  },
  {
   "cell_type": "markdown",
   "id": "edd0f98fab81928e",
   "metadata": {},
   "source": [
    "### Data Processing and Result Plotting"
   ]
  },
  {
   "cell_type": "code",
   "execution_count": null,
   "id": "455103f825e13942",
   "metadata": {},
   "outputs": [],
   "source": []
  },
  {
   "cell_type": "markdown",
   "source": [
    "## Reference"
   ],
   "metadata": {
    "collapsed": false
   },
   "id": "9884cbf27654d0d5"
  }
 ],
 "metadata": {
  "kernelspec": {
   "display_name": "Python 3 (ipykernel)",
   "language": "python",
   "name": "python3"
  },
  "language_info": {
   "codemirror_mode": {
    "name": "ipython",
    "version": 3
   },
   "file_extension": ".py",
   "mimetype": "text/x-python",
   "name": "python",
   "nbconvert_exporter": "python",
   "pygments_lexer": "ipython3",
   "version": "3.9.7"
  },
  "toc": {
   "base_numbering": 1,
   "nav_menu": {},
   "number_sections": true,
   "sideBar": true,
   "skip_h1_title": false,
   "title_cell": "Table of Contents",
   "title_sidebar": "Contents",
   "toc_cell": false,
   "toc_position": {},
   "toc_section_display": true,
   "toc_window_display": false
  },
  "varInspector": {
   "cols": {
    "lenName": 16,
    "lenType": 16,
    "lenVar": 40
   },
   "kernels_config": {
    "python": {
     "delete_cmd_postfix": "",
     "delete_cmd_prefix": "del ",
     "library": "var_list.py",
     "varRefreshCmd": "print(var_dic_list())"
    },
    "r": {
     "delete_cmd_postfix": ") ",
     "delete_cmd_prefix": "rm(",
     "library": "var_list.r",
     "varRefreshCmd": "cat(var_dic_list()) "
    }
   },
   "types_to_exclude": [
    "module",
    "function",
    "builtin_function_or_method",
    "instance",
    "_Feature"
   ],
   "window_display": false
  }
 },
 "nbformat": 4,
 "nbformat_minor": 5
}
